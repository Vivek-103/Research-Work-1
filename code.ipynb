# =============================================================================
# A Comparative Analysis of a Custom CNN and Transfer Learning
# for Image Classification on the CIFAR-10 Dataset
#
# Author: Vivek Srivastava
# Date: October 2025
#
# This script trains two models and generates all results and visualizations
# for the research paper.
# =============================================================================

# --- 0. PREPARATION & IMPORTS ---
# Ensure you have the required libraries installed:
# pip install tensorflow scikit-learn seaborn matplotlib

import tensorflow as tf
from tensorflow.keras import datasets, layers, models, applications, Input
import numpy as np
import matplotlib.pyplot as plt
import seaborn as sns
from sklearn.metrics import classification_report, confusion_matrix

print("TensorFlow Version:", tf.__version__)

# --- 1. LOAD AND PREPARE THE DATASET ---
print("\n--- Loading CIFAR-10 Dataset ---")
(train_images, train_labels), (test_images, test_labels) = datasets.cifar10.load_data()

# Normalize pixel values to be between 0 and 1
train_images, test_images = train_images / 255.0

# Define the class names
class_names = ['airplane', 'automobile', 'bird', 'cat', 'deer',
               'dog', 'frog', 'horse', 'ship', 'truck']

# --- 2. DEFINE DATA AUGMENTATION ---
data_augmentation = models.Sequential(
    [
        layers.RandomFlip("horizontal"),
        layers.RandomRotation(0.1),
        layers.RandomZoom(0.1),
    ],
    name="data_augmentation",
)

# --- 3. BUILD AND TRAIN THE CUSTOM CNN MODEL ---
print("\n--- Building Custom CNN Model with Data Augmentation ---")
inputs_cnn = Input(shape=(32, 32, 3))
x = data_augmentation(inputs_cnn)
x = layers.Conv2D(32, (3, 3), activation='relu')(x)
x = layers.MaxPooling2D((2, 2))(x)
x = layers.Conv2D(64, (3, 3), activation='relu')(x)
x = layers.MaxPooling2D((2, 2))(x)
x = layers.Conv2D(64, (3, 3), activation='relu')(x)
x = layers.Flatten()(x)
x = layers.Dense(64, activation='relu')(x)
outputs_cnn = layers.Dense(10)(x)
custom_cnn_model = models.Model(inputs_cnn, outputs_cnn)

custom_cnn_model.compile(optimizer='adam',
                         loss=tf.keras.losses.SparseCategoricalCrossentropy(from_logits=True),
                         metrics=['accuracy'])

custom_cnn_model.summary()

print("\n--- Training Custom CNN Model ---")
history_cnn = custom_cnn_model.fit(train_images, train_labels, epochs=10, 
                                   validation_data=(test_images, test_labels))


# --- 4. BUILD AND TRAIN THE VGG16 TRANSFER LEARNING MODEL ---
print("\n--- Building VGG16 Transfer Learning Model with Data Augmentation ---")
# Load the VGG16 base model, pre-trained on ImageNet
base_model_vgg = applications.VGG16(input_shape=(32, 32, 3),
                                    include_top=False,
                                    weights='imagenet')

# Freeze the convolutional base
base_model_vgg.trainable = False

# Create the new model on top
inputs_vgg = Input(shape=(32, 32, 3))
x = data_augmentation(inputs_vgg)
x = base_model_vgg(x, training=False)
x = layers.Flatten()(x)
x = layers.Dense(128, activation='relu')(x)
outputs_vgg = layers.Dense(10)(x)
vgg_model = models.Model(inputs_vgg, outputs_vgg)

vgg_model.compile(optimizer='adam',
                  loss=tf.keras.losses.SparseCategoricalCrossentropy(from_logits=True),
                  metrics=['accuracy'])

vgg_model.summary()

print("\n--- Training VGG16 Model ---")
history_vgg = vgg_model.fit(train_images, train_labels, epochs=10,
                          validation_data=(test_images, test_labels))


# --- 5. VISUALIZE RESULTS: COMPARISON GRAPH ---
print("\n--- Generating Results: Comparison Graph ---")
epochs_range = range(1, 11)

plt.figure(figsize=(12, 8))

# Plot CNN accuracies
plt.plot(epochs_range, history_cnn.history['val_accuracy'], 'o-', label='CNN Validation Accuracy', color='red')
plt.plot(epochs_range, history_cnn.history['accuracy'], 'o--', label='CNN Training Accuracy', color='salmon')

# Plot VGG16 accuracies
plt.plot(epochs_range, history_vgg.history['val_accuracy'], 'o-', label='VGG16 Validation Accuracy', color='blue')
plt.plot(epochs_range, history_vgg.history['accuracy'], 'o--', label='VGG16 Training Accuracy', color='skyblue')

# Styling
plt.title('Model Accuracy Comparison: Custom CNN vs. VGG16')
plt.xlabel('Epoch')
plt.ylabel('Accuracy')
plt.xticks(epochs_range)
plt.legend()
plt.grid(True)
plt.ylim(0.3, 1.0)
plt.show()


# --- 6. DETAILED ANALYSIS OF THE BEST MODEL (VGG16) ---
print("\n--- Generating Results: Detailed Analysis of VGG16 Model ---")

# Get model predictions
predictions = vgg_model.predict(test_images)
predicted_classes = np.argmax(predictions, axis=1)

# Generate the Classification Report
print("\n--- Classification Report ---")
print(classification_report(test_labels, predicted_classes, target_names=class_names))

# Generate and Plot the Confusion Matrix
print("\n--- Confusion Matrix ---")
cm = confusion_matrix(test_labels, predicted_classes)

plt.figure(figsize=(10, 8))
sns.heatmap(cm, annot=True, fmt='d', cmap='Blues', 
            xticklabels=class_names, yticklabels=class_names)

plt.title('Confusion Matrix for VGG16 Model')
plt.ylabel('True Label')
plt.xlabel('Predicted Label')
plt.show()


print("\n--- Script Finished ---")
